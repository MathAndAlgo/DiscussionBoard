{
 "cells": [
  {
   "cell_type": "markdown",
   "metadata": {},
   "source": [
    "\\iffalse\n",
    "## From [Bishop 2004 slides](https://slideplayer.com/slide/234500/)\n",
    "\n",
    "![](https://player.slideplayer.com/1/234500/data/images/img166.png) \n",
    "\n",
    "![](https://player.slideplayer.com/1/234500/data/images/img173.png)\n",
    "\n",
    "![](https://player.slideplayer.com/1/234500/data/images/img189.png)"
   ]
  },
  {
   "cell_type": "markdown",
   "metadata": {},
   "source": [
    "![](https://player.slideplayer.com/1/234500/data/images/img167.jpg)\n",
    "\n",
    "![](https://player.slideplayer.com/1/234500/data/images/img169.jpg)"
   ]
  },
  {
   "cell_type": "markdown",
   "metadata": {},
   "source": [
    "![](https://player.slideplayer.com/1/234500/data/images/img172.png)\n",
    "\n",
    "![](https://player.slideplayer.com/1/234500/data/images/img171.jpg)\n",
    "\\fi"
   ]
  },
  {
   "cell_type": "markdown",
   "metadata": {},
   "source": [
    "最近在看[Bishop 2004 slides](https://slideplayer.com/slide/234500/), [Tipping 2006 paper](https://www.miketipping.com/papers/met-mppca.pdf))对经典PCA推广得出的概率型PCA(PPCA,probabilistic PCA)。出于某些原因并没有仔细研读Bishop的推导，而是发现自己对连续变量的混合模型(mixture model)并不是很熟悉。在经过两天的阅读和思考后，意识到混合模型的本质就是概率分布函数的卷积(convolution)。以下根据Bishop2004对PPCA稍作分解(exposition)。令隐变量$z$服从单位高斯分布:\n",
    "\n",
    "$$\n",
    "p(z) = \\mathcal{N}(z|0,I)\n",
    "$$\n",
    "\n",
    "然后考虑给定隐变量$z$后，观测变量$x$的条件概率分布\n",
    "\n",
    "$$\n",
    "p(x|z) = \\mathcal{N}(x|Wz + \\mu, \\sigma^2 I)\n",
    "$$"
   ]
  },
  {
   "cell_type": "markdown",
   "metadata": {},
   "source": [
    "考虑变换\n",
    "\n",
    "$$\\begin{align}\n",
    "x &= Wz + \\mu + \\phi\\\\\n",
    "\\psi &=Wz + \\mu \n",
    "\\end{align}$$\n",
    "\n",
    "则有\n",
    "\n",
    "$$\\begin{align}\n",
    "\\phi &= x - Wz - \\mu  \\\\\n",
    "     &= x -\\psi \\\\ \n",
    "p(\\phi | \\psi) &= p(\\phi | z) \n",
    "\\\\ &= \\mathcal{N}(\\phi|0,\\sigma^2 I ) \\\\\n",
    "p(\\psi) &=  \\frac{1}{|\\psi'(z)|} p(z) \n",
    "\\end{align}$$"
   ]
  },
  {
   "cell_type": "markdown",
   "metadata": {},
   "source": [
    "其中 $|\\psi'（z）|$是线性变换$z\\rightarrow Wz + \\mu$的雅克比矩阵的行列式,对于非方阵，其行列式推广为$\\sqrt{W^TW}$。但是直接考虑利用高斯变量的性质可得\n",
    "\n",
    "$$\\begin{align}\n",
    "\\psi_i &= \\mu_i + \\sum_j w_{ij} z_j \\\\\n",
    "\\text{Cov}(\\psi_a,\\psi_b) &= \\text{Cov}( \\sum_i w_{ai}z_i, \\sum_j w_{bj}z_j) \\\\\n",
    "&= (\\sum_{i=j} + \\sum_{i\\neq j}) \\text{Cov} (w_{ai}z_i ,w_{bj} z_j)\n",
    "\\\\ &= [\\sum_{i=j}\\text{Cov} (w_{ai}z_i ,w_{bj} z_j) + 0 ]\n",
    "\\\\ &= \\sum_i w_{ai}w_{bi} \\text{Cov}(z_i,z_i)\n",
    "\\\\ &= \\sum_i w_{ai}w_{ib} \\cdot 1\n",
    "\\\\ \\text{Var}[\\psi] &= W W ^ T\n",
    "\\end{align}$$\n",
    "\n",
    "\n"
   ]
  },
  {
   "cell_type": "markdown",
   "metadata": {},
   "source": [
    "求边际密度即是求卷积\n",
    "\n",
    "$$\n",
    "p（\\phi） = \\int p(\\phi | \\psi) p(\\psi) d\\psi\n",
    "$$\n",
    "\n",
    "又由于高斯分布的卷积仍然是高斯分布，因此可以直接写出其形式\n",
    "\n",
    "$$\\begin{align}\n",
    "\\mathbb{E}[\\phi] \n",
    "&= E[\\psi] + E[\\phi | \\psi] \\\\\n",
    "&= \\mu + 0 \\\\\n",
    "\\text{Var}[\\phi] &= \\text{Var}[\\psi] + \\text{Var}[\\phi| \\psi ] \\\\\n",
    "&= WW^T + \\sigma^2 I \\\\\n",
    "p(\\phi) &=\\mathcal{N}(\\psi | \\mu, WW^T + \\sigma^2 I)\n",
    "\\end{align}$$"
   ]
  },
  {
   "cell_type": "markdown",
   "metadata": {},
   "source": [
    "从某种角度讲，卷积是比边际化更为直观的一个操作。对比高斯混合模型（GMM），我们可以看出GMM对应的$p(\\psi)$写作\n",
    "\n",
    "$$\n",
    "p(\\psi) = \\sum_k \\pi_k \\delta(\\psi - \\psi_k)\n",
    "$$\n",
    "\n",
    "如果使用完整的协方差矩阵，那么每一个脉冲$\\delta（\\psi - \\psi_k）$都会对自己的高斯组分$p(\\phi|\\psi=\\psi_k)$进行卷积。而如果考虑一个共享的协方差矩阵给定的$p(\\phi|\\psi)$，则可以直接求卷积\n",
    "\n",
    "$$\n",
    "p（\\phi） = \\int p(\\phi | \\psi) p(\\psi) d\\psi\n",
    "$$"
   ]
  },
  {
   "cell_type": "markdown",
   "metadata": {},
   "source": [
    "另:Bishop2004的公式发现原公式是有误的。\n",
    "\n",
    "![](https://player.slideplayer.com/1/234500/data/images/img172.png)\n",
    "\n",
    "![](https://player.slideplayer.com/1/234500/data/images/img171.jpg)"
   ]
  },
  {
   "cell_type": "markdown",
   "metadata": {},
   "source": [
    "p(\\phi)"
   ]
  },
  {
   "cell_type": "code",
   "execution_count": 6,
   "metadata": {},
   "outputs": [
    {
     "name": "stderr",
     "output_type": "stream",
     "text": [
      "[NbConvertApp] Converting notebook notes__MPPCA-BPPCA.ipynb to markdown\n",
      "[NbConvertApp] Writing 2564 bytes to notes__MPPCA-BPPCA.md\n"
     ]
    }
   ],
   "source": [
    "%%bash\n",
    "INFILE=notes__MPPCA-BPPCA.ipynb\n",
    "FMT=markdown\n",
    "jupyter nbconvert --TemplateExporter.exclude_code_cell=True $INFILE --to $FMT"
   ]
  }
 ],
 "metadata": {
  "kernelspec": {
   "display_name": "Python 2",
   "language": "python",
   "name": "python2"
  },
  "language_info": {
   "codemirror_mode": {
    "name": "ipython",
    "version": 2
   },
   "file_extension": ".py",
   "mimetype": "text/x-python",
   "name": "python",
   "nbconvert_exporter": "python",
   "pygments_lexer": "ipython2",
   "version": "2.7.15rc1"
  }
 },
 "nbformat": 4,
 "nbformat_minor": 2
}
