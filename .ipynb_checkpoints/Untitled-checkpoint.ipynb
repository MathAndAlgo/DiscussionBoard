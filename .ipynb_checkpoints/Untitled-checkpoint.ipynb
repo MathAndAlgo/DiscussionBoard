{
 "cells": [
  {
   "cell_type": "code",
   "execution_count": 12,
   "metadata": {},
   "outputs": [
    {
     "data": {
      "text/markdown": [
       "```\n",
       "add(pkg, vers...)\n",
       "```\n",
       "\n",
       "Add a requirement entry for `pkg` to `Pkg.dir(\"REQUIRE\")` and call `Pkg.resolve()`. If `vers` are given, they must be `VersionNumber` objects and they specify acceptable version intervals for `pkg`.\n"
      ],
      "text/plain": [
       "```\n",
       "add(pkg, vers...)\n",
       "```\n",
       "\n",
       "Add a requirement entry for `pkg` to `Pkg.dir(\"REQUIRE\")` and call `Pkg.resolve()`. If `vers` are given, they must be `VersionNumber` objects and they specify acceptable version intervals for `pkg`.\n"
      ]
     },
     "execution_count": 12,
     "metadata": {},
     "output_type": "execute_result"
    }
   ],
   "source": [
    "Pkg.add"
   ]
  },
  {
   "cell_type": "code",
   "execution_count": 66,
   "metadata": {},
   "outputs": [
    {
     "data": {
      "text/plain": [
       "0.06058693718652421"
      ]
     },
     "execution_count": 66,
     "metadata": {},
     "output_type": "execute_result"
    }
   ],
   "source": [
    "using Distributions\n",
    "# srand(123) \n",
    "D = Weibull(2,2)\n",
    "cdf(D,0.5)\n",
    "\n",
    "# methods(cdf)"
   ]
  },
  {
   "cell_type": "code",
   "execution_count": 90,
   "metadata": {},
   "outputs": [
    {
     "name": "stdout",
     "output_type": "stream",
     "text": [
      "  0.225377 seconds (920.87 k allocations: 24.416 MiB, 4.47% gc time)\n"
     ]
    }
   ],
   "source": [
    "using Cubature\n",
    "# f = x -> begin x^3; end\n",
    "f = x ->begin pdf(D,x);end\n",
    "reps = 1E4\n",
    "@time for j in 1:reps \n",
    "    b = hquadrature(f, -Inf,Inf)\n",
    "    end\n",
    "\n",
    "# (val,err) = hquadrature(f::Function, xmin::Real, xmax::Real;\n",
    "#                         reltol=1e-8, abstol=0, maxevals=0)\n",
    "# a = srand(123) \n",
    "# print(a)"
   ]
  },
  {
   "cell_type": "code",
   "execution_count": 113,
   "metadata": {},
   "outputs": [
    {
     "data": {
      "text/plain": [
       "(::#75) (generic function with 1 method)"
      ]
     },
     "execution_count": 113,
     "metadata": {},
     "output_type": "execute_result"
    }
   ],
   "source": [
    "\n",
    "# @doc Weibull"
   ]
  },
  {
   "cell_type": "code",
   "execution_count": 11,
   "metadata": {},
   "outputs": [
    {
     "data": {
      "text/plain": [
       "(1.0, 1.0)"
      ]
     },
     "execution_count": 11,
     "metadata": {},
     "output_type": "execute_result"
    }
   ],
   "source": [
    "params(D)"
   ]
  },
  {
   "cell_type": "code",
   "execution_count": 14,
   "metadata": {},
   "outputs": [
    {
     "data": {
      "text/markdown": [
       "```\n",
       "Gamma(α,θ)\n",
       "```\n",
       "\n",
       "The *Gamma distribution* with shape parameter `α` and scale `θ` has probability density function\n",
       "\n",
       "$$\n",
       "f(x; \\alpha, \\theta) = \\frac{x^{\\alpha-1} e^{-x/\\theta}}{\\Gamma(\\alpha) \\theta^\\alpha},\n",
       "\\quad x > 0\n",
       "$$\n",
       "\n",
       "```julia\n",
       "Gamma()          # Gamma distribution with unit shape and unit scale, i.e. Gamma(1, 1)\n",
       "Gamma(α)         # Gamma distribution with shape α and unit scale, i.e. Gamma(α, 1)\n",
       "Gamma(α, θ)      # Gamma distribution with shape α and scale θ\n",
       "\n",
       "params(d)        # Get the parameters, i.e. (α, θ)\n",
       "shape(d)         # Get the shape parameter, i.e. α\n",
       "scale(d)         # Get the scale parameter, i.e. θ\n",
       "```\n",
       "\n",
       "External links\n",
       "\n",
       "  * [Gamma distribution on Wikipedia](http://en.wikipedia.org/wiki/Gamma_distribution)\n"
      ],
      "text/plain": [
       "```\n",
       "Gamma(α,θ)\n",
       "```\n",
       "\n",
       "The *Gamma distribution* with shape parameter `α` and scale `θ` has probability density function\n",
       "\n",
       "$$\n",
       "f(x; \\alpha, \\theta) = \\frac{x^{\\alpha-1} e^{-x/\\theta}}{\\Gamma(\\alpha) \\theta^\\alpha},\n",
       "\\quad x > 0\n",
       "$$\n",
       "\n",
       "```julia\n",
       "Gamma()          # Gamma distribution with unit shape and unit scale, i.e. Gamma(1, 1)\n",
       "Gamma(α)         # Gamma distribution with shape α and unit scale, i.e. Gamma(α, 1)\n",
       "Gamma(α, θ)      # Gamma distribution with shape α and scale θ\n",
       "\n",
       "params(d)        # Get the parameters, i.e. (α, θ)\n",
       "shape(d)         # Get the shape parameter, i.e. α\n",
       "scale(d)         # Get the scale parameter, i.e. θ\n",
       "```\n",
       "\n",
       "External links\n",
       "\n",
       "  * [Gamma distribution on Wikipedia](http://en.wikipedia.org/wiki/Gamma_distribution)\n"
      ]
     },
     "execution_count": 14,
     "metadata": {},
     "output_type": "execute_result"
    }
   ],
   "source": [
    "# ::Frechet\n",
    "# @doc Frechet\n",
    "@doc Gamma"
   ]
  },
  {
   "cell_type": "code",
   "execution_count": 19,
   "metadata": {},
   "outputs": [
    {
     "name": "stdout",
     "output_type": "stream",
     "text": [
      "  0.466333 seconds (1.20 M allocations: 28.187 MiB, 1.73% gc time)\n",
      "  0.332908 seconds (839.10 k allocations: 23.610 MiB, 1.36% gc time)\n",
      "(0.3678794411714423, 5.551115123125783e-17)\n"
     ]
    }
   ],
   "source": [
    "using Distributions\n",
    "using Cubature\n",
    "D = Gamma(1)\n",
    "f = x ->begin cdf(D,x);end\n",
    "reps = 1E4\n",
    "@time for j in 1:reps \n",
    "    b = quadgk(f,0,1)\n",
    "    end\n",
    "@time for j in 1:reps \n",
    "    b = hquadrature(f,0,1)\n",
    "    end\n",
    "b = quadgk(f,0,1)\n",
    "println(b)\n"
   ]
  }
 ],
 "metadata": {
  "kernelspec": {
   "display_name": "Julia 0.6.2",
   "language": "julia",
   "name": "julia-0.6"
  },
  "language_info": {
   "file_extension": ".jl",
   "mimetype": "application/julia",
   "name": "julia",
   "version": "0.6.2"
  }
 },
 "nbformat": 4,
 "nbformat_minor": 2
}
