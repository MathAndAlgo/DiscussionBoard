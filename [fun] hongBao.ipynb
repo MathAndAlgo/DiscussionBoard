{
 "cells": [
  {
   "cell_type": "code",
   "execution_count": 2,
   "metadata": {},
   "outputs": [],
   "source": [
    "import numpy as np\n",
    "# import scipy.stats as spstat\n",
    "import matplotlib.pyplot as plt\n",
    "import pandas as pd\n",
    "%matplotlib inline\n",
    "\n",
    "dfc = pd.read_table('hongBao__k3.tsv',header=None)\n",
    "dfc.columns = ['x1','x2']\n",
    "fig,axs = plt.subplots(1,2,figsize=[18,8])\n",
    "plt.sca(axs[0])\n",
    "plt.scatter(dfc.x1,dfc.x2)\n",
    "plt.xlim(0,100)\n",
    "plt.ylim(0,100)\n",
    "plt.xlabel('x1')\n",
    "plt.ylabel('x2')\n",
    "\n",
    "plt.sca(axs[1])\n",
    "xbins = np.linspace(0,100,11)\n",
    "ybins = np.linspace(0,100,11)\n",
    "counts = np.histogram2d(x=dfc.x1,y=dfc.x2,bins=(xbins,ybins))[0]\n",
    "im = plt.pcolormesh(xbins,ybins,counts.T,)\n",
    "plt.colorbar(im)\n",
    "plt.xlabel('x1')\n",
    "plt.ylabel('x2')\n",
    "\n",
    "L = len(dfc)\n",
    "m1 = dfc.x1.max()\n",
    "m2 = dfc.x2.max()\n",
    "title ='''N={L}\n",
    "max(x1) = {m1}\n",
    "max(x2) = {m2}\n",
    "'''.format(**locals())\n",
    "plt.suptitle(title)\n",
    "\n",
    "fig.savefig('hongbao3.png')\n",
    "\n",
    "\n",
    "# import pymisca.vis_util as "
   ]
  },
  {
   "cell_type": "code",
   "execution_count": 16,
   "metadata": {},
   "outputs": [
    {
     "data": {
      "text/plain": [
       "[<matplotlib.lines.Line2D at 0x7fdb5decff10>]"
      ]
     },
     "execution_count": 16,
     "metadata": {},
     "output_type": "execute_result"
    },
    {
     "data": {
      "image/png": "[encoded data removed]",
      "text/plain": [
       "<Figure size 432x288 with 1 Axes>"
      ]
     },
     "metadata": {},
     "output_type": "display_data"
    }
   ],
   "source": [
    "rv = spstat.dirichlet(alpha=[1.,1.])\n",
    "# rv.rvs(10)\n",
    "import pymisca.vis_util as pyvis;\n",
    "xs = np.linspace(0., 1., 30)\n",
    "ps = rv.pdf( np.stack([xs,1-xs]) )\n",
    "# ps = rv.pdf(np.concatenate([xs,1-xs],axis=1))\n",
    "plt.plot(xs,ps)"
   ]
  },
  {
   "cell_type": "code",
   "execution_count": 62,
   "metadata": {},
   "outputs": [
    {
     "data": {
      "image/png": "[encoded data removed]",
      "text/plain": [
       "<Figure size 432x288 with 1 Axes>"
      ]
     },
     "metadata": {},
     "output_type": "display_data"
    }
   ],
   "source": [
    "rv = spstat.dirichlet(alpha=[1.0] * 100)\n",
    "bins = np.linspace(0,0.2,50)\n",
    "plt.hist(rv.rvs().ravel(),bins);\n",
    "# rv.prod()\n",
    "# rv"
   ]
  }
 ],
 "metadata": {
  "kernelspec": {
   "display_name": "Python 2",
   "language": "python",
   "name": "python2"
  },
  "language_info": {
   "codemirror_mode": {
    "name": "ipython",
    "version": 2
   },
   "file_extension": ".py",
   "mimetype": "text/x-python",
   "name": "python",
   "nbconvert_exporter": "python",
   "pygments_lexer": "ipython2",
   "version": "2.7.15rc1"
  }
 },
 "nbformat": 4,
 "nbformat_minor": 2
}
