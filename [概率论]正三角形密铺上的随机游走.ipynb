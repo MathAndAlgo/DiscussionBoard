{
 "cells": [
  {
   "cell_type": "markdown",
   "metadata": {},
   "source": [
    "本笔记本对应知乎问题 [蜜蜂在蜂巢随机游走一百步后离原点的距离期望是多少?](https://www.zhihu.com/question/266611177)"
   ]
  },
  {
   "cell_type": "code",
   "execution_count": 1,
   "metadata": {
    "collapsed": true
   },
   "outputs": [],
   "source": [
    "import numpy as np"
   ]
  },
  {
   "cell_type": "code",
   "execution_count": 2,
   "metadata": {
    "collapsed": true
   },
   "outputs": [],
   "source": [
    "A168605 =[1,2,8,30,104,342,1088,3390,10424,31782,96368,\n",
    " 291150,877544,2640822,7938848,23849310,71613464,\n",
    " 214971462,645176528,1936053870,5809210184,\n",
    " 17429727702,52293377408,156888520830,470682339704,\n",
    " 1412080573542]\n",
    "\n",
    "A168605 = np.array(A168605)"
   ]
  },
  {
   "cell_type": "code",
   "execution_count": 3,
   "metadata": {},
   "outputs": [
    {
     "name": "stdout",
     "output_type": "stream",
     "text": [
      "              total        used        free      shared  buff/cache   available\r\n",
      "Mem:            23G         10G        8.6G         42M        4.0G         11G\r\n",
      "Swap:           46G        9.1G         37G\r\n"
     ]
    }
   ],
   "source": [
    "!free -h"
   ]
  },
  {
   "cell_type": "code",
   "execution_count": 25,
   "metadata": {},
   "outputs": [
    {
     "name": "stdout",
     "output_type": "stream",
     "text": [
      "              total        used        free      shared  buff/cache   available\r\n",
      "Mem:            23G         18G        5.0G         25M        307M        4.5G\r\n",
      "Swap:           46G         18G         28G\r\n"
     ]
    }
   ],
   "source": [
    "!free -h"
   ]
  },
  {
   "cell_type": "code",
   "execution_count": 2,
   "metadata": {},
   "outputs": [
    {
     "name": "stdout",
     "output_type": "stream",
     "text": [
      "0,2,8,30,104,350,1152,3738,12000,38214,120920,380666,1193304,3727490,11608352,36057510,111747744,345636486,1067179320,3289843578\n"
     ]
    }
   ],
   "source": [
    "###### 格点距离的精确精确解\n",
    "N = 200\n",
    "# arr = np.zeros((N//2,N),dtype ='float32')\n",
    "arr = np.zeros((N//2,N),dtype =int)\n",
    "arr[0,N//2]=1\n",
    "# print arr\n",
    "for i in range(1,N//2):\n",
    "    last = arr[i-1,:]\n",
    "    fir = [1]*3\n",
    "    arr[i,:] = np.convolve(last,fir,mode='same')\n",
    "#     arr[i,:] = arr[i,:]/arr[i,:].sum() ###可以考虑归一化防止underflow\n",
    "    \n",
    "\n",
    "x = abs(np.arange(0,N) - N//2)[None,:] ### grid x\n",
    "# print arr[0,np.where(x == 0)[1]]\n",
    "SUM = np.sum(x*arr,axis = 1)\n",
    "print ','.join(str(x) for x in SUM.tolist()[:20])\n"
   ]
  },
  {
   "cell_type": "code",
   "execution_count": 5,
   "metadata": {},
   "outputs": [
    {
     "name": "stdout",
     "output_type": "stream",
     "text": [
      "CPU times: user 14.1 s, sys: 29.4 s, total: 43.5 s\n",
      "Wall time: 55.8 s\n"
     ]
    }
   ],
   "source": [
    "%%time\n",
    "#### 仿射坐标系上的蒙特卡罗采样\n",
    "import numpy as np\n",
    "import matplotlib.pyplot as plt\n",
    "\n",
    "if 'tvec' in locals():\n",
    "    del tvec ##清理内存\n",
    "    \n",
    "### 小心内存溢出\n",
    "sample_size = int(1E5)\n",
    "# sample_size = int(3E6)\n",
    "batch_num = 1 ###确保能整除\n",
    "T = 151\n",
    "t = 100\n",
    "delta = np.array([(0,1),(1,1),(1,0),(0,-1),(-1,-1),(-1,0)])\n",
    "\n",
    "lst = []\n",
    "for i in range(batch_num):\n",
    "    if 'Tvec' in locals():\n",
    "        del Tvec,dvec ##清理内存\n",
    "    idx = np.random.choice(6,size=(sample_size//batch_num,T))\n",
    "    dvec = delta[idx]\n",
    "    Tvec = np.cumsum(dvec,axis = 1)\n",
    "    if batch_num==1:\n",
    "        break\n",
    "#         return Tvec\n",
    "    tvec = Tvec[:,t]\n",
    "    lst += [tvec]\n",
    "if lst:\n",
    "    tvec = np.concatenate(lst,axis = 0,)\n",
    "del lst"
   ]
  },
  {
   "cell_type": "code",
   "execution_count": 32,
   "metadata": {
    "collapsed": true
   },
   "outputs": [],
   "source": [
    "del Tvec,lst"
   ]
  },
  {
   "cell_type": "code",
   "execution_count": 6,
   "metadata": {},
   "outputs": [
    {
     "name": "stdout",
     "output_type": "stream",
     "text": [
      "t=100 , N=3.000000E+06\n"
     ]
    },
    {
     "data": {
      "text/plain": [
       "<matplotlib.figure.Figure at 0x7f71616d4e10>"
      ]
     },
     "metadata": {},
     "output_type": "display_data"
    },
    {
     "data": {
      "image/png": "[encoded data removed]",
      "text/plain": [
       "<matplotlib.figure.Figure at 0x7f71619e6b90>"
      ]
     },
     "metadata": {},
     "output_type": "display_data"
    }
   ],
   "source": [
    "#### 数据可视化\n",
    "# t = 100\n",
    "\n",
    "# def histo_t(t,sample_size = sample_size,Tvec = Tvec):\n",
    "def histo_t(t,tvec = None,Tvec = None):\n",
    "    if tvec is None:\n",
    "        tvec = Tvec[:,t]\n",
    "    sample_size = len(tvec)\n",
    "    bins = np.arange(t)\n",
    "    stl = \"t=%d , N=%E\"%(t,sample_size)\n",
    "    print stl\n",
    "    plt.figure(figsize = [12,6])\n",
    "    plt.subplot(121)\n",
    "    hex_dist = np.sum(abs(tvec),axis = 1)\n",
    "    plt.hist(hex_dist,bins = bins)\n",
    "    plt.xlim(0,t)\n",
    "    plt.title(\"Manhattan distance histogram\")\n",
    "    stat = \"E(d_m)=%f,\\n Var(d_m)=%f\"%(hex_dist.mean(),hex_dist.var())\n",
    "    plt.xlabel('Manhattan distance at t = %d\\n'%t+stat)\n",
    "    # plt.show()\n",
    "    # print \"E(d_m)=\",hex_dist.mean()\n",
    "\n",
    "    plt.subplot(122)\n",
    "\n",
    "    euc_dist = np.sqrt(np.sum(tvec**2,axis = 1) + tvec[:,0]*tvec[:,1])\n",
    "    plt.hist(euc_dist,bins = bins)\n",
    "    plt.xlim(0,t)\n",
    "    plt.title(\"Euclidean distance histogram\")\n",
    "    stat = \"E(d)=%f,\\n Var(d)=%f\"%(euc_dist.mean(),euc_dist.var())\n",
    "\n",
    "    plt.xlabel('Euclidean distance at t = %d\\n'%t+stat)\n",
    "\n",
    "    plt.suptitle(stl)\n",
    "    plt.show()\n",
    "    return plt.gcf()\n",
    "t = 100\n",
    "# tvec=  Tvec[:,t]\n",
    "histo_t(t,Tvec = Tvec);"
   ]
  },
  {
   "cell_type": "code",
   "execution_count": 7,
   "metadata": {},
   "outputs": [
    {
     "name": "stdout",
     "output_type": "stream",
     "text": [
      "t=50 , N=3.000000E+06\n"
     ]
    },
    {
     "data": {
      "text/plain": [
       "<matplotlib.figure.Figure at 0x7f7161a15fd0>"
      ]
     },
     "metadata": {},
     "output_type": "display_data"
    },
    {
     "data": {
      "image/png": "[encoded data removed]",
      "text/plain": [
       "<matplotlib.figure.Figure at 0x7f71619b1210>"
      ]
     },
     "metadata": {},
     "output_type": "display_data"
    }
   ],
   "source": [
    "histo_t(50,Tvec = Tvec);"
   ]
  },
  {
   "cell_type": "code",
   "execution_count": 66,
   "metadata": {
    "collapsed": true
   },
   "outputs": [],
   "source": [
    "d_m = abs(Tvec).sum(axis = 2)"
   ]
  },
  {
   "cell_type": "code",
   "execution_count": 9,
   "metadata": {
    "collapsed": true
   },
   "outputs": [],
   "source": [
    "d_m_Var = abs(Tvec).sum(axis = 2).var(axis=0)"
   ]
  },
  {
   "cell_type": "code",
   "execution_count": 67,
   "metadata": {
    "collapsed": true
   },
   "outputs": [],
   "source": [
    "d_m_sq_mean = np.square(d_m).mean(axis=0)"
   ]
  },
  {
   "cell_type": "code",
   "execution_count": 80,
   "metadata": {},
   "outputs": [
    {
     "name": "stdout",
     "output_type": "stream",
     "text": [
      "[2.29297433 1.95984661]\n",
      "[0.959641   1.95984661]\n"
     ]
    }
   ],
   "source": [
    "\n",
    "ts = np.arange(len(d_m_Var))\n",
    "plt.plot(np.sqrt(d_m_sq_mean-d_m_Var))\n",
    "coef = np.polyfit(ts,d_m_sq_mean,1)\n",
    "print coef\n",
    "coef[0] = coef[0] - 4./3\n",
    "print coef\n",
    "# plt.vlines(100,0,16)\n",
    "\n",
    "# ?plt.vlines\n",
    "# plt.show()"
   ]
  },
  {
   "cell_type": "code",
   "execution_count": 61,
   "metadata": {},
   "outputs": [
    {
     "data": {
      "image/png": "[encoded data removed]",
      "text/plain": [
       "<matplotlib.figure.Figure at 0x7f7161a00810>"
      ]
     },
     "metadata": {},
     "output_type": "display_data"
    },
    {
     "name": "stdout",
     "output_type": "stream",
     "text": [
      "[0.59329026 0.57671933]\n",
      "1.0899473358263276\n",
      "[ 0.74004308 -0.57671933]\n"
     ]
    }
   ],
   "source": [
    "dist_name = 'Manhattan distance'\n",
    "plt.plot(d_m_Var,'x')\n",
    "plt.title(dist_name)\n",
    "plt.ylabel('Var(d)')\n",
    "plt.xlabel('timestep t')\n",
    "# np.corrcoef()\n",
    "ts = np.arange(len(d_m_Var))\n",
    "z = np.polyfit(ts, d_m_Var, 1)\n",
    "# print np.corrcoef([ts,d_m_Var])\n",
    "plt.plot(ts,ts*z[0] + z[1])\n",
    "plt.show()\n",
    "\n",
    "# print z\n",
    "# print 1/z[1]-np.pi\n",
    "print z\n",
    "print (5/3. - z[1])\n",
    "z = -z\n",
    "z[0]= z[0]+4/3.\n",
    "print z "
   ]
  },
  {
   "cell_type": "markdown",
   "metadata": {},
   "source": [
    "$$\n",
    "E({d^t_{l1}}^2)=\\frac{4t}{3}\n",
    "$$"
   ]
  },
  {
   "cell_type": "code",
   "execution_count": 64,
   "metadata": {},
   "outputs": [
    {
     "data": {
      "text/plain": [
       "73.42758821958601"
      ]
     },
     "execution_count": 64,
     "metadata": {},
     "output_type": "execute_result"
    }
   ],
   "source": [
    "100*z[0]+z[1]"
   ]
  },
  {
   "cell_type": "code",
   "execution_count": 65,
   "metadata": {},
   "outputs": [
    {
     "name": "stdout",
     "output_type": "stream",
     "text": [
      "[ 0.74004308 -0.57671933]\n"
     ]
    },
    {
     "data": {
      "text/plain": [
       "73.42758821958601"
      ]
     },
     "execution_count": 65,
     "metadata": {},
     "output_type": "execute_result"
    }
   ],
   "source": [
    "print z\n",
    "f=np.poly1d(z)\n",
    "f(100)**0.5"
   ]
  },
  {
   "cell_type": "code",
   "execution_count": 289,
   "metadata": {},
   "outputs": [
    {
     "name": "stdout",
     "output_type": "stream",
     "text": [
      "[0, 1, 1, 3, 6, 15, 36, 91, 232, 603, 1585, 4213, 11298, 30537, 83097, 227475, 625992, 1730787, 4805595, 13393689, 37458330, 105089229, 295673994, 834086421, 2358641376, 6684761125, 18985057351, 54022715451, 154000562758, 439742222071, 1257643249140, 3602118427251]\n",
      "1.5\n",
      "1.5\n",
      "1.92857142857\n",
      "2.13157894737\n",
      "2.38235294118\n",
      "2.58510638298\n",
      "2.78244274809\n",
      "2.96341463415\n",
      "3.135234151\n",
      "3.29772143416\n",
      "3.45275406385\n",
      "3.60108552765\n",
      "3.74357920739\n",
      "3.88084991407\n",
      "4.01344003464\n",
      "4.14179437932\n",
      "4.26629506933\n",
      "4.38726887116\n",
      "4.50499930801\n",
      "4.61973373139\n",
      "4.73168964771\n",
      "4.84105946012\n",
      "4.94801436535\n",
      "5.05270747838\n",
      "5.15527639893\n",
      "5.2558453249\n",
      "5.35452681071\n",
      "5.45142323956\n",
      "5.54662806492\n",
      "5.64022686368\n",
      "5.73229823503\n",
      "5.82291457153\n",
      "5.91214272405\n",
      "6.00004457792\n",
      "6.0866775542\n",
      "6.17209504784\n",
      "6.256346812\n",
      "6.33947929646\n",
      "6.42153594671\n",
      "6.50255746906\n",
      "6.58258206643\n",
      "6.66164564868\n",
      "6.73978202073\n",
      "6.81702305134\n",
      "6.89339882488\n",
      "6.96893777806\n",
      "7.04366682359\n",
      "7.11761146209\n",
      "7.19079588367\n",
      "7.26324306033\n",
      "7.3349748301\n",
      "7.4060119739\n",
      "7.47637428581\n",
      "7.54608063742\n",
      "7.61514903696\n",
      "7.68359668357\n",
      "7.75144001729\n",
      "7.81869476513\n",
      "7.88537598367\n",
      "7.95149809835\n",
      "8.01707493994\n",
      "8.08211977824\n",
      "8.14664535349\n",
      "8.21066390545\n",
      "8.27418720049\n",
      "8.33722655687\n",
      "8.39979286822\n",
      "8.46189662557\n",
      "8.52354793782\n",
      "8.58475655099\n",
      "8.64553186616\n",
      "8.70588295637\n",
      "8.76581858235\n",
      "8.82534720746\n",
      "8.88447701154\n",
      "8.94321590411\n",
      "9.00157153663\n",
      "9.05955131421\n",
      "9.11716240655\n",
      "9.17441175824\n",
      "9.23130609861\n",
      "9.28785195089\n",
      "9.34405564096\n",
      "9.39992330564\n",
      "9.45546090047\n",
      "9.51067420711\n",
      "9.56556884042\n",
      "9.62015025505\n",
      "9.67442375182\n",
      "9.72839448371\n",
      "9.78206746155\n",
      "9.8354475595\n",
      "9.88853952013\n",
      "9.94134795943\n",
      "9.99387737142\n",
      "10.0461321327\n",
      "10.0981165065\n",
      "10.1498346471\n",
      "10.2012906033\n",
      "10.2524883224\n"
     ]
    }
   ],
   "source": [
    "#### 一个不太成熟的近似\n",
    "\n",
    "def ms():\n",
    "\n",
    "    a, b, c, d, n = 0, 1, 1, -1, 1\n",
    "\n",
    "    #yield 1\n",
    "\n",
    "    while True:\n",
    "\n",
    "        if 1:\n",
    "            yield -b + (-1)**n*d\n",
    "        n += 1\n",
    "\n",
    "        a, b = b, (3*(n-1)*n*a+(2*n-1)*n*b)/((n+1)*(n-1))\n",
    "\n",
    "        c, d = d, (3*(n-1)*c-(2*n-1)*d)/n\n",
    "#         if n >=0:\n",
    "\n",
    "A005043 = ms()\n",
    "\n",
    "print([A005043.next() for _ in range(32)])\n",
    "\n",
    "A005043 = ms()\n",
    "lst = []\n",
    "b = 1\n",
    "for i in range(100):\n",
    "    y = 3.**(i+1) /2. / b\n",
    "    print y\n",
    "    a = A005043.next()\n",
    "    b = 3*b-2*a\n",
    "    \n",
    "#     print (3.**i)\n",
    "#    print x/3.**i\n",
    "#    y = 3/2. * 1 / (1+x/3.**i)\n",
    "#     print a,b"
   ]
  }
 ],
 "metadata": {
  "kernelspec": {
   "display_name": "Python 2",
   "language": "python",
   "name": "python2"
  },
  "language_info": {
   "codemirror_mode": {
    "name": "ipython",
    "version": 2
   },
   "file_extension": ".py",
   "mimetype": "text/x-python",
   "name": "python",
   "nbconvert_exporter": "python",
   "pygments_lexer": "ipython2",
   "version": "2.7.12"
  }
 },
 "nbformat": 4,
 "nbformat_minor": 2
}
