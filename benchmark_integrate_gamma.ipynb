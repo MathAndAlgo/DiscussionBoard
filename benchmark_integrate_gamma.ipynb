{
 "cells": [
  {
   "cell_type": "markdown",
   "metadata": {},
   "source": [
    "Benchmarking integrators from 3 langs. Matlab has a huge overhead"
   ]
  },
  {
   "cell_type": "code",
   "execution_count": 116,
   "metadata": {},
   "outputs": [
    {
     "name": "stdout",
     "output_type": "stream",
     "text": [
      "(0.3678794411714423, 4.08428225874771e-15)\n",
      "CPU times: user 22.9 s, sys: 8 ms, total: 22.9 s\n",
      "Wall time: 22.9 s\n"
     ]
    }
   ],
   "source": [
    "%%time\n",
    "#### Python\n",
    "\n",
    "import scipy.stats as spstat\n",
    "import scipy.integrate as spint\n",
    "f = spstat.gamma(a=1).cdf\n",
    "for i in range(int(1E4)):\n",
    "    b= spint.quad(f,0,1)\n",
    "print b"
   ]
  },
  {
   "cell_type": "code",
   "execution_count": 117,
   "metadata": {},
   "outputs": [
    {
     "name": "stdout",
     "output_type": "stream",
     "text": [
      "  0.917228 seconds (1.34 M allocations: 35.109 MiB, 1.27% gc time)\n",
      "  0.306467 seconds (839.09 k allocations: 23.614 MiB, 2.00% gc time)\n",
      "(0.3678794411714423, 5.551115123125783e-17)\n",
      "CPU times: user 100 ms, sys: 20 ms, total: 120 ms\n",
      "Wall time: 5.8 s\n"
     ]
    }
   ],
   "source": [
    "%%time\n",
    "### Julia\n",
    "lines = ''''\n",
    "using Distributions\n",
    "using Cubature\n",
    "D = Gamma(1)\n",
    "f = x ->begin cdf(D,x);end\n",
    "reps = 1E4\n",
    "@time for j in 1:reps \n",
    "    b = quadgk(f,0,1)\n",
    "    end\n",
    "@time for j in 1:reps \n",
    "    b = hquadrature(f,0,1)\n",
    "    end\n",
    "b = quadgk(f,0,1)\n",
    "println(b)' '''\n",
    "!echo {lines} > test.jl\n",
    "!julia test.jl"
   ]
  },
  {
   "cell_type": "code",
   "execution_count": 118,
   "metadata": {
    "scrolled": true
   },
   "outputs": [
    {
     "name": "stdout",
     "output_type": "stream",
     "text": [
      "\u001b[?1h\u001b=\n",
      "                            < M A T L A B (R) >\n",
      "                  Copyright 1984-2016 The MathWorks, Inc.\n",
      "                   R2016b (9.1.0.441655) 64-bit (glnxa64)\n",
      "                             September 7, 2016\n",
      "\n",
      " \n",
      "To get started, type one of these: helpwin, helpdesk, or demo.\n",
      "For product information, visit www.mathworks.com.\n",
      " \n",
      "    0.3679\n",
      "\n",
      "test elapsed: 5.759034 s\u001b[?1l\u001b>CPU times: user 240 ms, sys: 72 ms, total: 312 ms\n",
      "Wall time: 13.5 s\n"
     ]
    }
   ],
   "source": [
    "%%time\n",
    "### Matlab\n",
    "lines = '''\"start = tic;\n",
    "f = @(x)gamcdf(x,1,1);\n",
    "for i = 1:1E4\n",
    "    b = integral(f,0,1);\n",
    "end\n",
    "disp(b)\n",
    "fprintf('%s elapsed: %f s\\n', mfilename,toc(start))\" ''' \n",
    "!echo {lines} >'test.m'\n",
    "!matlab -nodisplay -r \"run('./test.m');exit;\""
   ]
  }
 ],
 "metadata": {
  "kernelspec": {
   "display_name": "Python 2",
   "language": "python",
   "name": "python2"
  },
  "language_info": {
   "codemirror_mode": {
    "name": "ipython",
    "version": 2
   },
   "file_extension": ".py",
   "mimetype": "text/x-python",
   "name": "python",
   "nbconvert_exporter": "python",
   "pygments_lexer": "ipython2",
   "version": "2.7.12"
  }
 },
 "nbformat": 4,
 "nbformat_minor": 2
}
